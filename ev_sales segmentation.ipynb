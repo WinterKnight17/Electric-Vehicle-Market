{
 "cells": [
  {
   "cell_type": "code",
   "execution_count": 85,
   "id": "c2272b9a",
   "metadata": {},
   "outputs": [],
   "source": [
    "import pandas as pd\n",
    "import numpy as np\n",
    "import matplotlib.pyplot as plt\n",
    "import seaborn as sns\n",
    "from sklearn.cluster import KMeans\n",
    "from pandas_profiling import ProfileReport"
   ]
  },
  {
   "cell_type": "code",
   "execution_count": 6,
   "id": "39fdb245",
   "metadata": {
    "scrolled": true
   },
   "outputs": [
    {
     "data": {
      "text/html": [
       "<div>\n",
       "<style scoped>\n",
       "    .dataframe tbody tr th:only-of-type {\n",
       "        vertical-align: middle;\n",
       "    }\n",
       "\n",
       "    .dataframe tbody tr th {\n",
       "        vertical-align: top;\n",
       "    }\n",
       "\n",
       "    .dataframe thead th {\n",
       "        text-align: right;\n",
       "    }\n",
       "</style>\n",
       "<table border=\"1\" class=\"dataframe\">\n",
       "  <thead>\n",
       "    <tr style=\"text-align: right;\">\n",
       "      <th></th>\n",
       "      <th>Unnamed: 0</th>\n",
       "      <th>max sales volume</th>\n",
       "      <th>market share</th>\n",
       "      <th>state</th>\n",
       "      <th>Public EV Charging Stations</th>\n",
       "      <th>Average gross income</th>\n",
       "    </tr>\n",
       "  </thead>\n",
       "  <tbody>\n",
       "    <tr>\n",
       "      <th>0</th>\n",
       "      <td>ADAPTED VEHICLE</td>\n",
       "      <td>5</td>\n",
       "      <td>0.004419</td>\n",
       "      <td>Karnataka</td>\n",
       "      <td>136</td>\n",
       "      <td>223175</td>\n",
       "    </tr>\n",
       "    <tr>\n",
       "      <th>1</th>\n",
       "      <td>AGRICULTURAL TRACTOR</td>\n",
       "      <td>1</td>\n",
       "      <td>0.000884</td>\n",
       "      <td>Punjab</td>\n",
       "      <td>11</td>\n",
       "      <td>151491</td>\n",
       "    </tr>\n",
       "    <tr>\n",
       "      <th>2</th>\n",
       "      <td>BUS</td>\n",
       "      <td>233</td>\n",
       "      <td>0.205941</td>\n",
       "      <td>Maharashtra</td>\n",
       "      <td>317</td>\n",
       "      <td>202130</td>\n",
       "    </tr>\n",
       "    <tr>\n",
       "      <th>3</th>\n",
       "      <td>E-RICKSHAW(P)</td>\n",
       "      <td>49885</td>\n",
       "      <td>44.091781</td>\n",
       "      <td>Uttar Pradesh</td>\n",
       "      <td>108</td>\n",
       "      <td>65431</td>\n",
       "    </tr>\n",
       "    <tr>\n",
       "      <th>4</th>\n",
       "      <td>E-RICKSHAW WITH CART (G)</td>\n",
       "      <td>2658</td>\n",
       "      <td>2.349323</td>\n",
       "      <td>Uttar Pradesh</td>\n",
       "      <td>108</td>\n",
       "      <td>65431</td>\n",
       "    </tr>\n",
       "    <tr>\n",
       "      <th>5</th>\n",
       "      <td>FORK LIFT</td>\n",
       "      <td>30</td>\n",
       "      <td>0.026516</td>\n",
       "      <td>Gujarat</td>\n",
       "      <td>27</td>\n",
       "      <td>213936</td>\n",
       "    </tr>\n",
       "    <tr>\n",
       "      <th>6</th>\n",
       "      <td>GOODS CARRIER</td>\n",
       "      <td>62</td>\n",
       "      <td>0.054800</td>\n",
       "      <td>Tamil Nadu</td>\n",
       "      <td>212</td>\n",
       "      <td>213396</td>\n",
       "    </tr>\n",
       "    <tr>\n",
       "      <th>7</th>\n",
       "      <td>LUXURY CAB</td>\n",
       "      <td>11</td>\n",
       "      <td>0.009723</td>\n",
       "      <td>West Bengal</td>\n",
       "      <td>22</td>\n",
       "      <td>121463</td>\n",
       "    </tr>\n",
       "    <tr>\n",
       "      <th>8</th>\n",
       "      <td>MAXI CAB</td>\n",
       "      <td>1</td>\n",
       "      <td>0.000884</td>\n",
       "      <td>Haryana</td>\n",
       "      <td>55</td>\n",
       "      <td>247628</td>\n",
       "    </tr>\n",
       "    <tr>\n",
       "      <th>9</th>\n",
       "      <td>M-CYCLE/SCOOTER</td>\n",
       "      <td>42461</td>\n",
       "      <td>37.529941</td>\n",
       "      <td>Maharashtra</td>\n",
       "      <td>317</td>\n",
       "      <td>202130</td>\n",
       "    </tr>\n",
       "    <tr>\n",
       "      <th>10</th>\n",
       "      <td>M-CYCLE/SCOOTER-WITH SIDE CAR</td>\n",
       "      <td>65</td>\n",
       "      <td>0.057451</td>\n",
       "      <td>Tamil Nadu</td>\n",
       "      <td>212</td>\n",
       "      <td>213396</td>\n",
       "    </tr>\n",
       "    <tr>\n",
       "      <th>11</th>\n",
       "      <td>MOPED</td>\n",
       "      <td>3268</td>\n",
       "      <td>2.888482</td>\n",
       "      <td>Gujarat</td>\n",
       "      <td>27</td>\n",
       "      <td>213936</td>\n",
       "    </tr>\n",
       "    <tr>\n",
       "      <th>12</th>\n",
       "      <td>MOTOR CAB</td>\n",
       "      <td>1186</td>\n",
       "      <td>1.048268</td>\n",
       "      <td>Delhi</td>\n",
       "      <td>597</td>\n",
       "      <td>376221</td>\n",
       "    </tr>\n",
       "    <tr>\n",
       "      <th>13</th>\n",
       "      <td>MOTOR CAR</td>\n",
       "      <td>5045</td>\n",
       "      <td>4.459117</td>\n",
       "      <td>Maharashtra</td>\n",
       "      <td>317</td>\n",
       "      <td>202130</td>\n",
       "    </tr>\n",
       "    <tr>\n",
       "      <th>14</th>\n",
       "      <td>MOTOR CYCLE/SCOOTER-SIDECAR(T)</td>\n",
       "      <td>3</td>\n",
       "      <td>0.002652</td>\n",
       "      <td>Karnataka</td>\n",
       "      <td>136</td>\n",
       "      <td>223175</td>\n",
       "    </tr>\n",
       "    <tr>\n",
       "      <th>15</th>\n",
       "      <td>MOTOR CYCLE/SCOOTER-USED FOR HIRE</td>\n",
       "      <td>2770</td>\n",
       "      <td>2.448316</td>\n",
       "      <td>Karnataka</td>\n",
       "      <td>136</td>\n",
       "      <td>223175</td>\n",
       "    </tr>\n",
       "    <tr>\n",
       "      <th>16</th>\n",
       "      <td>MOTOR CYCLE/SCOOTER-WITH TRAILER</td>\n",
       "      <td>1</td>\n",
       "      <td>0.000884</td>\n",
       "      <td>Karnataka</td>\n",
       "      <td>136</td>\n",
       "      <td>223175</td>\n",
       "    </tr>\n",
       "    <tr>\n",
       "      <th>17</th>\n",
       "      <td>MOTORISED CYCLE (CC &gt; 25CC)</td>\n",
       "      <td>3408</td>\n",
       "      <td>3.012224</td>\n",
       "      <td>Tamil Nadu</td>\n",
       "      <td>212</td>\n",
       "      <td>213396</td>\n",
       "    </tr>\n",
       "    <tr>\n",
       "      <th>18</th>\n",
       "      <td>OMNI BUS</td>\n",
       "      <td>2</td>\n",
       "      <td>0.001768</td>\n",
       "      <td>Jammu and Kashmir</td>\n",
       "      <td>25</td>\n",
       "      <td>104889</td>\n",
       "    </tr>\n",
       "    <tr>\n",
       "      <th>19</th>\n",
       "      <td>OMNI BUS (PRIVATE USE)</td>\n",
       "      <td>1</td>\n",
       "      <td>0.000884</td>\n",
       "      <td>West Bengal</td>\n",
       "      <td>22</td>\n",
       "      <td>121463</td>\n",
       "    </tr>\n",
       "    <tr>\n",
       "      <th>20</th>\n",
       "      <td>THREE WHEELER (GOODS)</td>\n",
       "      <td>1375</td>\n",
       "      <td>1.215319</td>\n",
       "      <td>Delhi</td>\n",
       "      <td>597</td>\n",
       "      <td>376221</td>\n",
       "    </tr>\n",
       "    <tr>\n",
       "      <th>21</th>\n",
       "      <td>THREE WHEELER (PASSENGER)</td>\n",
       "      <td>638</td>\n",
       "      <td>0.563908</td>\n",
       "      <td>Karnataka</td>\n",
       "      <td>136</td>\n",
       "      <td>223175</td>\n",
       "    </tr>\n",
       "    <tr>\n",
       "      <th>22</th>\n",
       "      <td>THREE WHEELER (PERSONAL)</td>\n",
       "      <td>29</td>\n",
       "      <td>0.025632</td>\n",
       "      <td>Chhattisgarh</td>\n",
       "      <td>4</td>\n",
       "      <td>104989</td>\n",
       "    </tr>\n",
       "    <tr>\n",
       "      <th>23</th>\n",
       "      <td>TRAILER (AGRICULTURAL)</td>\n",
       "      <td>1</td>\n",
       "      <td>0.000884</td>\n",
       "      <td>Maharashtra</td>\n",
       "      <td>317</td>\n",
       "      <td>202130</td>\n",
       "    </tr>\n",
       "  </tbody>\n",
       "</table>\n",
       "</div>"
      ],
      "text/plain": [
       "                           Unnamed: 0  max sales volume  market share  \\\n",
       "0                     ADAPTED VEHICLE                 5      0.004419   \n",
       "1                AGRICULTURAL TRACTOR                 1      0.000884   \n",
       "2                                 BUS               233      0.205941   \n",
       "3                       E-RICKSHAW(P)             49885     44.091781   \n",
       "4            E-RICKSHAW WITH CART (G)              2658      2.349323   \n",
       "5                           FORK LIFT                30      0.026516   \n",
       "6                       GOODS CARRIER                62      0.054800   \n",
       "7                          LUXURY CAB                11      0.009723   \n",
       "8                            MAXI CAB                 1      0.000884   \n",
       "9                     M-CYCLE/SCOOTER             42461     37.529941   \n",
       "10      M-CYCLE/SCOOTER-WITH SIDE CAR                65      0.057451   \n",
       "11                              MOPED              3268      2.888482   \n",
       "12                          MOTOR CAB              1186      1.048268   \n",
       "13                          MOTOR CAR              5045      4.459117   \n",
       "14     MOTOR CYCLE/SCOOTER-SIDECAR(T)                 3      0.002652   \n",
       "15  MOTOR CYCLE/SCOOTER-USED FOR HIRE              2770      2.448316   \n",
       "16   MOTOR CYCLE/SCOOTER-WITH TRAILER                 1      0.000884   \n",
       "17        MOTORISED CYCLE (CC > 25CC)              3408      3.012224   \n",
       "18                           OMNI BUS                 2      0.001768   \n",
       "19             OMNI BUS (PRIVATE USE)                 1      0.000884   \n",
       "20              THREE WHEELER (GOODS)              1375      1.215319   \n",
       "21          THREE WHEELER (PASSENGER)               638      0.563908   \n",
       "22           THREE WHEELER (PERSONAL)                29      0.025632   \n",
       "23             TRAILER (AGRICULTURAL)                 1      0.000884   \n",
       "\n",
       "                state  Public EV Charging Stations  Average gross income   \n",
       "0           Karnataka                          136                 223175  \n",
       "1              Punjab                           11                 151491  \n",
       "2         Maharashtra                          317                 202130  \n",
       "3       Uttar Pradesh                          108                  65431  \n",
       "4       Uttar Pradesh                          108                  65431  \n",
       "5             Gujarat                           27                 213936  \n",
       "6          Tamil Nadu                          212                 213396  \n",
       "7         West Bengal                           22                 121463  \n",
       "8             Haryana                           55                 247628  \n",
       "9         Maharashtra                          317                 202130  \n",
       "10         Tamil Nadu                          212                 213396  \n",
       "11            Gujarat                           27                 213936  \n",
       "12              Delhi                          597                 376221  \n",
       "13        Maharashtra                          317                 202130  \n",
       "14          Karnataka                          136                 223175  \n",
       "15          Karnataka                          136                 223175  \n",
       "16          Karnataka                          136                 223175  \n",
       "17         Tamil Nadu                          212                 213396  \n",
       "18  Jammu and Kashmir                           25                 104889  \n",
       "19        West Bengal                           22                 121463  \n",
       "20              Delhi                          597                 376221  \n",
       "21          Karnataka                          136                 223175  \n",
       "22       Chhattisgarh                            4                 104989  \n",
       "23        Maharashtra                          317                 202130  "
      ]
     },
     "execution_count": 6,
     "metadata": {},
     "output_type": "execute_result"
    }
   ],
   "source": [
    "df=pd.read_csv('ev_sales.csv')\n",
    "df"
   ]
  },
  {
   "cell_type": "code",
   "execution_count": 8,
   "id": "b0caa8c5",
   "metadata": {},
   "outputs": [
    {
     "data": {
      "text/plain": [
       "(24, 6)"
      ]
     },
     "execution_count": 8,
     "metadata": {},
     "output_type": "execute_result"
    }
   ],
   "source": [
    "df.shape"
   ]
  },
  {
   "cell_type": "code",
   "execution_count": 10,
   "id": "6b61a0c5",
   "metadata": {},
   "outputs": [
    {
     "data": {
      "text/html": [
       "<div>\n",
       "<style scoped>\n",
       "    .dataframe tbody tr th:only-of-type {\n",
       "        vertical-align: middle;\n",
       "    }\n",
       "\n",
       "    .dataframe tbody tr th {\n",
       "        vertical-align: top;\n",
       "    }\n",
       "\n",
       "    .dataframe thead th {\n",
       "        text-align: right;\n",
       "    }\n",
       "</style>\n",
       "<table border=\"1\" class=\"dataframe\">\n",
       "  <thead>\n",
       "    <tr style=\"text-align: right;\">\n",
       "      <th></th>\n",
       "      <th>max sales volume</th>\n",
       "      <th>market share</th>\n",
       "      <th>Public EV Charging Stations</th>\n",
       "      <th>Average gross income</th>\n",
       "    </tr>\n",
       "  </thead>\n",
       "  <tbody>\n",
       "    <tr>\n",
       "      <th>count</th>\n",
       "      <td>24.000000</td>\n",
       "      <td>24.000000</td>\n",
       "      <td>24.000000</td>\n",
       "      <td>24.000000</td>\n",
       "    </tr>\n",
       "    <tr>\n",
       "      <th>mean</th>\n",
       "      <td>4714.125000</td>\n",
       "      <td>4.166667</td>\n",
       "      <td>174.458333</td>\n",
       "      <td>196986.750000</td>\n",
       "    </tr>\n",
       "    <tr>\n",
       "      <th>std</th>\n",
       "      <td>12894.810319</td>\n",
       "      <td>11.397317</td>\n",
       "      <td>166.963932</td>\n",
       "      <td>77113.298069</td>\n",
       "    </tr>\n",
       "    <tr>\n",
       "      <th>min</th>\n",
       "      <td>1.000000</td>\n",
       "      <td>0.000884</td>\n",
       "      <td>4.000000</td>\n",
       "      <td>65431.000000</td>\n",
       "    </tr>\n",
       "    <tr>\n",
       "      <th>25%</th>\n",
       "      <td>2.750000</td>\n",
       "      <td>0.002431</td>\n",
       "      <td>27.000000</td>\n",
       "      <td>143984.000000</td>\n",
       "    </tr>\n",
       "    <tr>\n",
       "      <th>50%</th>\n",
       "      <td>63.500000</td>\n",
       "      <td>0.056126</td>\n",
       "      <td>136.000000</td>\n",
       "      <td>213396.000000</td>\n",
       "    </tr>\n",
       "    <tr>\n",
       "      <th>75%</th>\n",
       "      <td>2686.000000</td>\n",
       "      <td>2.374071</td>\n",
       "      <td>238.250000</td>\n",
       "      <td>223175.000000</td>\n",
       "    </tr>\n",
       "    <tr>\n",
       "      <th>max</th>\n",
       "      <td>49885.000000</td>\n",
       "      <td>44.091781</td>\n",
       "      <td>597.000000</td>\n",
       "      <td>376221.000000</td>\n",
       "    </tr>\n",
       "  </tbody>\n",
       "</table>\n",
       "</div>"
      ],
      "text/plain": [
       "       max sales volume  market share  Public EV Charging Stations  \\\n",
       "count         24.000000     24.000000                    24.000000   \n",
       "mean        4714.125000      4.166667                   174.458333   \n",
       "std        12894.810319     11.397317                   166.963932   \n",
       "min            1.000000      0.000884                     4.000000   \n",
       "25%            2.750000      0.002431                    27.000000   \n",
       "50%           63.500000      0.056126                   136.000000   \n",
       "75%         2686.000000      2.374071                   238.250000   \n",
       "max        49885.000000     44.091781                   597.000000   \n",
       "\n",
       "       Average gross income   \n",
       "count              24.000000  \n",
       "mean           196986.750000  \n",
       "std             77113.298069  \n",
       "min             65431.000000  \n",
       "25%            143984.000000  \n",
       "50%            213396.000000  \n",
       "75%            223175.000000  \n",
       "max            376221.000000  "
      ]
     },
     "execution_count": 10,
     "metadata": {},
     "output_type": "execute_result"
    }
   ],
   "source": [
    "df.describe()"
   ]
  },
  {
   "cell_type": "code",
   "execution_count": 11,
   "id": "a7f16844",
   "metadata": {},
   "outputs": [
    {
     "data": {
      "text/plain": [
       "Unnamed: 0                      object\n",
       "max sales volume                 int64\n",
       "market share                   float64\n",
       "state                           object\n",
       "Public EV Charging Stations      int64\n",
       "Average gross income             int64\n",
       "dtype: object"
      ]
     },
     "execution_count": 11,
     "metadata": {},
     "output_type": "execute_result"
    }
   ],
   "source": [
    "df.dtypes"
   ]
  },
  {
   "cell_type": "code",
   "execution_count": 29,
   "id": "2d1545df",
   "metadata": {},
   "outputs": [
    {
     "data": {
      "text/plain": [
       "Unnamed: 0                     0\n",
       "max sales volume               0\n",
       "market share                   0\n",
       "state                          0\n",
       "Public EV Charging Stations    0\n",
       "Average gross income           0\n",
       "dtype: int64"
      ]
     },
     "execution_count": 29,
     "metadata": {},
     "output_type": "execute_result"
    }
   ],
   "source": [
    "df.isnull().sum()"
   ]
  },
  {
   "cell_type": "code",
   "execution_count": 50,
   "id": "b98729aa",
   "metadata": {},
   "outputs": [
    {
     "name": "stdout",
     "output_type": "stream",
     "text": [
      "[[5.00000000e+00 4.41934300e-03]\n",
      " [1.00000000e+00 8.83869000e-04]\n",
      " [2.33000000e+02 2.05941364e-01]\n",
      " [4.98850000e+04 4.40917809e+01]\n",
      " [2.65800000e+03 2.34932251e+00]\n",
      " [3.00000000e+01 2.65160550e-02]\n",
      " [6.20000000e+01 5.47998480e-02]\n",
      " [1.10000000e+01 9.72255400e-03]\n",
      " [1.00000000e+00 8.83869000e-04]\n",
      " [4.24610000e+04 3.75299410e+01]\n",
      " [6.50000000e+01 5.74514540e-02]\n",
      " [3.26800000e+03 2.88848231e+00]\n",
      " [1.18600000e+03 1.04826806e+00]\n",
      " [5.04500000e+03 4.45911666e+00]\n",
      " [3.00000000e+00 2.65160600e-03]\n",
      " [2.77000000e+03 2.44831579e+00]\n",
      " [1.00000000e+00 8.83869000e-04]\n",
      " [3.40800000e+03 3.01222390e+00]\n",
      " [2.00000000e+00 1.76773700e-03]\n",
      " [1.00000000e+00 8.83869000e-04]\n",
      " [1.37500000e+03 1.21531921e+00]\n",
      " [6.38000000e+02 5.63908113e-01]\n",
      " [2.90000000e+01 2.56321870e-02]\n",
      " [1.00000000e+00 8.83869000e-04]]\n"
     ]
    }
   ],
   "source": [
    "x = df.iloc[:,[1,2]].values #For the columns 'Max.Sales volume'&'market share'\n",
    "print(x)"
   ]
  },
  {
   "cell_type": "code",
   "execution_count": 37,
   "id": "24acf59b",
   "metadata": {},
   "outputs": [],
   "source": [
    "#choosing no. of clusters by WCSS\n",
    "\n",
    "wcss = []\n",
    "for i in range(1,11):\n",
    "    kmeans = KMeans(n_clusters=i, init='k-means++', random_state=25)\n",
    "    kmeans.fit(x)\n",
    "    wcss.append(kmeans.inertia_)"
   ]
  },
  {
   "cell_type": "code",
   "execution_count": 38,
   "id": "7e057003",
   "metadata": {},
   "outputs": [
    {
     "data": {
      "image/png": "[encoded data removed]",
      "text/plain": [
       "<Figure size 432x288 with 1 Axes>"
      ]
     },
     "metadata": {},
     "output_type": "display_data"
    }
   ],
   "source": [
    "sns.set()\n",
    "plt.plot(range(1,11), wcss)\n",
    "plt.title('The Elbow Point Graph')\n",
    "plt.xlabel('No. of Clusters')\n",
    "plt.ylabel('WCSS')\n",
    "plt.show()"
   ]
  },
  {
   "cell_type": "code",
   "execution_count": 40,
   "id": "b2fe35a1",
   "metadata": {},
   "outputs": [
    {
     "name": "stdout",
     "output_type": "stream",
     "text": [
      "[0 0 0 1 0 0 0 0 0 1 0 0 0 0 0 0 0 0 0 0 0 0 0 0]\n"
     ]
    }
   ],
   "source": [
    "#from graph we can take 2 as the optimum no. of clusters\n",
    "kmeans = KMeans(n_clusters=2, init='k-means++', random_state=0)\n",
    "y = kmeans.fit_predict(x)\n",
    "print(y)\n",
    "\n",
    "#Below we can see the data got divided into two clusters named '0' & '1'"
   ]
  },
  {
   "cell_type": "code",
   "execution_count": 47,
   "id": "4c0a43bc",
   "metadata": {},
   "outputs": [
    {
     "data": {
      "image/png": "[encoded data removed]",
      "text/plain": [
       "<Figure size 720x720 with 1 Axes>"
      ]
     },
     "metadata": {},
     "output_type": "display_data"
    }
   ],
   "source": [
    "plt.figure(figsize=(10,10))\n",
    "plt.scatter(x[y==0,0], x[y==0,1], s=100, c='green', label='Cluster 1')\n",
    "plt.scatter(x[y==1,0], x[y==1,1], s=100, c='blue', label='Cluster 2')\n",
    "\n",
    "plt.scatter(kmeans.cluster_centers_[:,0], kmeans.cluster_centers_[:,1], s=80, c='red', label='centroids')\n",
    "\n",
    "plt.title('Targeted Vehicle Type')\n",
    "plt.xlabel('max sales volume')\n",
    "plt.ylabel('market share')\n",
    "plt.show()\n"
   ]
  },
  {
   "cell_type": "code",
   "execution_count": null,
   "id": "95fa4ab2",
   "metadata": {},
   "outputs": [],
   "source": [
    "#Understanding:\n",
    "#From the data only 3rd and 9th vehicle are in 2nd cluster which are having good max sales volume and market share.\n",
    "#the other vehicle which are having less sales and share are in cluster 1. So,now we know that vehicles which to be targeted more means the 2nd cluster. "
   ]
  },
  {
   "cell_type": "code",
   "execution_count": 54,
   "id": "ec882376",
   "metadata": {},
   "outputs": [
    {
     "name": "stdout",
     "output_type": "stream",
     "text": [
      "[[   136 223175]\n",
      " [    11 151491]\n",
      " [   317 202130]\n",
      " [   108  65431]\n",
      " [   108  65431]\n",
      " [    27 213936]\n",
      " [   212 213396]\n",
      " [    22 121463]\n",
      " [    55 247628]\n",
      " [   317 202130]\n",
      " [   212 213396]\n",
      " [    27 213936]\n",
      " [   597 376221]\n",
      " [   317 202130]\n",
      " [   136 223175]\n",
      " [   136 223175]\n",
      " [   136 223175]\n",
      " [   212 213396]\n",
      " [    25 104889]\n",
      " [    22 121463]\n",
      " [   597 376221]\n",
      " [   136 223175]\n",
      " [     4 104989]\n",
      " [   317 202130]]\n"
     ]
    }
   ],
   "source": [
    "m = df.iloc[:,[4,5]].values\n",
    "print(m)"
   ]
  },
  {
   "cell_type": "code",
   "execution_count": 55,
   "id": "ea71c4fe",
   "metadata": {},
   "outputs": [],
   "source": [
    "wcss = []\n",
    "for i in range(1,11):\n",
    "    kmeans = KMeans(n_clusters=i, init='k-means++', random_state=25)\n",
    "    kmeans.fit(m)\n",
    "    wcss.append(kmeans.inertia_)"
   ]
  },
  {
   "cell_type": "code",
   "execution_count": 56,
   "id": "6ac685a4",
   "metadata": {},
   "outputs": [
    {
     "data": {
      "image/png": "[encoded data removed]",
      "text/plain": [
       "<Figure size 432x288 with 1 Axes>"
      ]
     },
     "metadata": {},
     "output_type": "display_data"
    }
   ],
   "source": [
    "sns.set()\n",
    "plt.plot(range(1,11), wcss)\n",
    "plt.title('The Elbow Point Graph')\n",
    "plt.xlabel('No. of Clusters')\n",
    "plt.ylabel('WCSS')\n",
    "plt.show()"
   ]
  },
  {
   "cell_type": "code",
   "execution_count": 76,
   "id": "098ebf91",
   "metadata": {},
   "outputs": [
    {
     "name": "stdout",
     "output_type": "stream",
     "text": [
      "[1 2 1 2 2 1 1 2 1 1 1 1 0 1 1 1 1 1 2 2 0 1 2 1]\n"
     ]
    }
   ],
   "source": [
    "kmeans = KMeans(n_clusters=3, init='k-means++', random_state=0)\n",
    "n = kmeans.fit_predict(m)\n",
    "print(n)\n",
    "#Below are the states are in clusters '0','1','2'. "
   ]
  },
  {
   "cell_type": "code",
   "execution_count": 89,
   "id": "b2a3ac22",
   "metadata": {},
   "outputs": [
    {
     "data": {
      "image/png": "[encoded data removed]",
      "text/plain": [
       "<Figure size 720x720 with 1 Axes>"
      ]
     },
     "metadata": {},
     "output_type": "display_data"
    }
   ],
   "source": [
    "plt.figure(figsize=(10,10))\n",
    "plt.scatter(m[n==0,0], m[n==0,1], s=50, c='orange', label='Cluster 1')\n",
    "plt.scatter(m[n==1,0], m[n==1,1], s=50, c='brown', label='Cluster 2')\n",
    "plt.scatter(m[n==2,0], m[n==2,1], s=50, c='violet', label='Cluster 3')\n",
    "\n",
    "plt.scatter(kmeans.cluster_centers_[:,0], kmeans.cluster_centers_[:,1], s=80, c='red', label='centroids')\n",
    "\n",
    "plt.title('Targeted state')\n",
    "plt.xlabel('Public EV Charging Stations')\n",
    "plt.ylabel('Average Gross Income ')\n",
    "plt.show()\n"
   ]
  }
 ],
 "metadata": {
  "kernelspec": {
   "display_name": "Anaconda (base)",
   "language": "python",
   "name": "anaconda-base"
  }
 },
 "nbformat": 4,
 "nbformat_minor": 5
}
